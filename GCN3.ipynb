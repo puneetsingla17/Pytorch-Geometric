{
  "nbformat": 4,
  "nbformat_minor": 0,
  "metadata": {
    "colab": {
      "name": "GCN3.ipynb",
      "provenance": [],
      "collapsed_sections": []
    },
    "kernelspec": {
      "name": "python3",
      "display_name": "Python 3"
    },
    "accelerator": "GPU"
  },
  "cells": [
    {
      "cell_type": "code",
      "metadata": {
        "id": "OMwn3Nkn2bVv",
        "colab_type": "code",
        "outputId": "f3d2da6d-fe07-4b79-84bb-54330bbea74d",
        "colab": {
          "base_uri": "https://localhost:8080/",
          "height": 1000
        }
      },
      "source": [
        "import torch\n",
        "!pip install --upgrade torch-scatter\n",
        "!pip install --upgrade torch-sparse\n",
        "!pip install --upgrade torch-cluster\n",
        "!pip install --upgrade torch-spline-conv\n",
        "!pip install torch-geometric"
      ],
      "execution_count": 1,
      "outputs": [
        {
          "output_type": "stream",
          "text": [
            "Collecting torch-scatter\n",
            "  Downloading https://files.pythonhosted.org/packages/b8/c3/8bad887ffa55c86f120ef5ae252dc0e357b3bd956d9fbf45242bacc46290/torch_scatter-1.4.0.tar.gz\n",
            "Building wheels for collected packages: torch-scatter\n",
            "  Building wheel for torch-scatter (setup.py) ... \u001b[?25l\u001b[?25hdone\n",
            "  Created wheel for torch-scatter: filename=torch_scatter-1.4.0-cp36-cp36m-linux_x86_64.whl size=3170417 sha256=0b0cd2cf265e9d665a79cdc02203191180b0bb383b09e268a86a0940d742cfbd\n",
            "  Stored in directory: /root/.cache/pip/wheels/25/00/c4/1637b4b3003f29092f4fe2ad4b40dd10906269c1ac2dc82941\n",
            "Successfully built torch-scatter\n",
            "Installing collected packages: torch-scatter\n",
            "Successfully installed torch-scatter-1.4.0\n",
            "Collecting torch-sparse\n",
            "  Downloading https://files.pythonhosted.org/packages/08/4e/a268613fa6a92ffbc65b89e66fc8be5590801937185007f0f7bcb75ea21f/torch_sparse-0.4.3.tar.gz\n",
            "Requirement already satisfied, skipping upgrade: scipy in /usr/local/lib/python3.6/dist-packages (from torch-sparse) (1.3.2)\n",
            "Requirement already satisfied, skipping upgrade: numpy>=1.13.3 in /usr/local/lib/python3.6/dist-packages (from scipy->torch-sparse) (1.17.4)\n",
            "Building wheels for collected packages: torch-sparse\n",
            "  Building wheel for torch-sparse (setup.py) ... \u001b[?25l\u001b[?25hdone\n",
            "  Created wheel for torch-sparse: filename=torch_sparse-0.4.3-cp36-cp36m-linux_x86_64.whl size=3966752 sha256=6388cfa9f8baf3ee56a247349a76505b01b66477b53f77693fb7ff34d04c3010\n",
            "  Stored in directory: /root/.cache/pip/wheels/02/66/2b/befece01c2516f9fb3e7b4d150bb2b871221c73657c9cd7735\n",
            "Successfully built torch-sparse\n",
            "Installing collected packages: torch-sparse\n",
            "Successfully installed torch-sparse-0.4.3\n",
            "Collecting torch-cluster\n",
            "  Downloading https://files.pythonhosted.org/packages/c3/70/1d827d6fd1e03bb5ae84852dd0070c6574105c37e7b935284f6e990932db/torch_cluster-1.4.5.tar.gz\n",
            "Requirement already satisfied, skipping upgrade: scipy in /usr/local/lib/python3.6/dist-packages (from torch-cluster) (1.3.2)\n",
            "Requirement already satisfied, skipping upgrade: numpy>=1.13.3 in /usr/local/lib/python3.6/dist-packages (from scipy->torch-cluster) (1.17.4)\n",
            "Building wheels for collected packages: torch-cluster\n",
            "  Building wheel for torch-cluster (setup.py) ... \u001b[?25l\u001b[?25hdone\n",
            "  Created wheel for torch-cluster: filename=torch_cluster-1.4.5-cp36-cp36m-linux_x86_64.whl size=16232288 sha256=1803eecc1351e701a1d0ac02e4c420f61ad1fbcab8d1177333d8dc1e073ff32f\n",
            "  Stored in directory: /root/.cache/pip/wheels/0a/26/7e/a6d6a80eae5ca39b92bc77773f36cf433d5085de18014382b1\n",
            "Successfully built torch-cluster\n",
            "Installing collected packages: torch-cluster\n",
            "Successfully installed torch-cluster-1.4.5\n",
            "Collecting torch-spline-conv\n",
            "  Downloading https://files.pythonhosted.org/packages/5e/77/5420584cdb1514c580722ca4bc482a509105d64b7c70246e9dc4a3e6d3c5/torch_spline_conv-1.1.1.tar.gz\n",
            "Building wheels for collected packages: torch-spline-conv\n",
            "  Building wheel for torch-spline-conv (setup.py) ... \u001b[?25l\u001b[?25hdone\n",
            "  Created wheel for torch-spline-conv: filename=torch_spline_conv-1.1.1-cp36-cp36m-linux_x86_64.whl size=5469779 sha256=ef200fc5d9a3ac312c9d6537f0bf05e604614ec3de82e5955f75ebb14f17e1bf\n",
            "  Stored in directory: /root/.cache/pip/wheels/63/cf/c7/3439a98ba262c5d99b91a9c11aaeced67f583febab5a4b1566\n",
            "Successfully built torch-spline-conv\n",
            "Installing collected packages: torch-spline-conv\n",
            "Successfully installed torch-spline-conv-1.1.1\n",
            "Collecting torch-geometric\n",
            "\u001b[?25l  Downloading https://files.pythonhosted.org/packages/f3/50/0a802f0bfa68058bf025d219ec6fbe806a5b891bba6702e28be7b83679fb/torch_geometric-1.3.2.tar.gz (126kB)\n",
            "\u001b[K     |████████████████████████████████| 133kB 5.0MB/s \n",
            "\u001b[?25hRequirement already satisfied: numpy in /usr/local/lib/python3.6/dist-packages (from torch-geometric) (1.17.4)\n",
            "Requirement already satisfied: scipy in /usr/local/lib/python3.6/dist-packages (from torch-geometric) (1.3.2)\n",
            "Requirement already satisfied: networkx in /usr/local/lib/python3.6/dist-packages (from torch-geometric) (2.4)\n",
            "Requirement already satisfied: scikit-learn in /usr/local/lib/python3.6/dist-packages (from torch-geometric) (0.21.3)\n",
            "Requirement already satisfied: requests in /usr/local/lib/python3.6/dist-packages (from torch-geometric) (2.21.0)\n",
            "Collecting plyfile\n",
            "  Downloading https://files.pythonhosted.org/packages/4c/15/434d1d96f9a41fea56cb3290718123d651c56c4b7e53f0249acaf1bf34b6/plyfile-0.7.1.tar.gz\n",
            "Requirement already satisfied: pandas in /usr/local/lib/python3.6/dist-packages (from torch-geometric) (0.25.3)\n",
            "Collecting rdflib\n",
            "\u001b[?25l  Downloading https://files.pythonhosted.org/packages/3c/fe/630bacb652680f6d481b9febbb3e2c3869194a1a5fc3401a4a41195a2f8f/rdflib-4.2.2-py3-none-any.whl (344kB)\n",
            "\u001b[K     |████████████████████████████████| 348kB 64.9MB/s \n",
            "\u001b[?25hRequirement already satisfied: h5py in /usr/local/lib/python3.6/dist-packages (from torch-geometric) (2.8.0)\n",
            "Requirement already satisfied: googledrivedownloader in /usr/local/lib/python3.6/dist-packages (from torch-geometric) (0.4)\n",
            "Requirement already satisfied: decorator>=4.3.0 in /usr/local/lib/python3.6/dist-packages (from networkx->torch-geometric) (4.4.1)\n",
            "Requirement already satisfied: joblib>=0.11 in /usr/local/lib/python3.6/dist-packages (from scikit-learn->torch-geometric) (0.14.0)\n",
            "Requirement already satisfied: urllib3<1.25,>=1.21.1 in /usr/local/lib/python3.6/dist-packages (from requests->torch-geometric) (1.24.3)\n",
            "Requirement already satisfied: chardet<3.1.0,>=3.0.2 in /usr/local/lib/python3.6/dist-packages (from requests->torch-geometric) (3.0.4)\n",
            "Requirement already satisfied: certifi>=2017.4.17 in /usr/local/lib/python3.6/dist-packages (from requests->torch-geometric) (2019.9.11)\n",
            "Requirement already satisfied: idna<2.9,>=2.5 in /usr/local/lib/python3.6/dist-packages (from requests->torch-geometric) (2.8)\n",
            "Requirement already satisfied: python-dateutil>=2.6.1 in /usr/local/lib/python3.6/dist-packages (from pandas->torch-geometric) (2.6.1)\n",
            "Requirement already satisfied: pytz>=2017.2 in /usr/local/lib/python3.6/dist-packages (from pandas->torch-geometric) (2018.9)\n",
            "Collecting isodate\n",
            "\u001b[?25l  Downloading https://files.pythonhosted.org/packages/9b/9f/b36f7774ff5ea8e428fdcfc4bb332c39ee5b9362ddd3d40d9516a55221b2/isodate-0.6.0-py2.py3-none-any.whl (45kB)\n",
            "\u001b[K     |████████████████████████████████| 51kB 7.8MB/s \n",
            "\u001b[?25hRequirement already satisfied: pyparsing in /usr/local/lib/python3.6/dist-packages (from rdflib->torch-geometric) (2.4.5)\n",
            "Requirement already satisfied: six in /usr/local/lib/python3.6/dist-packages (from h5py->torch-geometric) (1.12.0)\n",
            "Building wheels for collected packages: torch-geometric, plyfile\n",
            "  Building wheel for torch-geometric (setup.py) ... \u001b[?25l\u001b[?25hdone\n",
            "  Created wheel for torch-geometric: filename=torch_geometric-1.3.2-cp36-none-any.whl size=203339 sha256=add3e5bde76aa58fd20874e64b55ed9afd70a414b5e56af801e728734532fc3c\n",
            "  Stored in directory: /root/.cache/pip/wheels/f7/75/0a/56a0fd58efac6d990782523e20e61c9307fc42c31564d40348\n",
            "  Building wheel for plyfile (setup.py) ... \u001b[?25l\u001b[?25hdone\n",
            "  Created wheel for plyfile: filename=plyfile-0.7.1-cp36-none-any.whl size=32827 sha256=5f1e204a7ae6eabd60b5ba7c5ef0b3aee4584f7dccc13e023ae1242a00e2ef2b\n",
            "  Stored in directory: /root/.cache/pip/wheels/d6/0d/bf/6d603d81b98604d2ecfd5e99d4ab7c9af664fd5285ab82bbb0\n",
            "Successfully built torch-geometric plyfile\n",
            "Installing collected packages: plyfile, isodate, rdflib, torch-geometric\n",
            "Successfully installed isodate-0.6.0 plyfile-0.7.1 rdflib-4.2.2 torch-geometric-1.3.2\n"
          ],
          "name": "stdout"
        }
      ]
    },
    {
      "cell_type": "code",
      "metadata": {
        "id": "ophY2L-O2ywd",
        "colab_type": "code",
        "colab": {}
      },
      "source": [
        "import numpy as np\n",
        "import matplotlib.pyplot as plt"
      ],
      "execution_count": 0,
      "outputs": []
    },
    {
      "cell_type": "code",
      "metadata": {
        "id": "RcDIulqoMTHL",
        "colab_type": "code",
        "colab": {}
      },
      "source": [
        "from torch_geometric.datasets import Planetoid"
      ],
      "execution_count": 0,
      "outputs": []
    },
    {
      "cell_type": "code",
      "metadata": {
        "id": "c0TGnvogkXGb",
        "colab_type": "code",
        "colab": {
          "base_uri": "https://localhost:8080/",
          "height": 205
        },
        "outputId": "6ce387fe-64a7-484c-bfac-494c596c42ce"
      },
      "source": [
        "dataset=Planetoid(root='/tmp/cora',name='cora')"
      ],
      "execution_count": 4,
      "outputs": [
        {
          "output_type": "stream",
          "text": [
            "Downloading https://github.com/kimiyoung/planetoid/raw/master/data/ind.cora.x\n",
            "Downloading https://github.com/kimiyoung/planetoid/raw/master/data/ind.cora.tx\n",
            "Downloading https://github.com/kimiyoung/planetoid/raw/master/data/ind.cora.allx\n",
            "Downloading https://github.com/kimiyoung/planetoid/raw/master/data/ind.cora.y\n",
            "Downloading https://github.com/kimiyoung/planetoid/raw/master/data/ind.cora.ty\n",
            "Downloading https://github.com/kimiyoung/planetoid/raw/master/data/ind.cora.ally\n",
            "Downloading https://github.com/kimiyoung/planetoid/raw/master/data/ind.cora.graph\n",
            "Downloading https://github.com/kimiyoung/planetoid/raw/master/data/ind.cora.test.index\n",
            "Processing...\n",
            "Done!\n"
          ],
          "name": "stdout"
        }
      ]
    },
    {
      "cell_type": "code",
      "metadata": {
        "id": "9zj2ffwmkeHg",
        "colab_type": "code",
        "colab": {
          "base_uri": "https://localhost:8080/",
          "height": 34
        },
        "outputId": "8ca657c6-5c27-47e2-892b-7161fa2f67b3"
      },
      "source": [
        "len(dataset)"
      ],
      "execution_count": 5,
      "outputs": [
        {
          "output_type": "execute_result",
          "data": {
            "text/plain": [
              "1"
            ]
          },
          "metadata": {
            "tags": []
          },
          "execution_count": 5
        }
      ]
    },
    {
      "cell_type": "code",
      "metadata": {
        "id": "moRvYQWTkhDQ",
        "colab_type": "code",
        "colab": {}
      },
      "source": [
        "#Exploring Dataset"
      ],
      "execution_count": 0,
      "outputs": []
    },
    {
      "cell_type": "code",
      "metadata": {
        "id": "haUennvckmMp",
        "colab_type": "code",
        "colab": {
          "base_uri": "https://localhost:8080/",
          "height": 34
        },
        "outputId": "5f86dac6-ac57-4215-a2aa-921b802891b7"
      },
      "source": [
        "dataset.num_classes"
      ],
      "execution_count": 7,
      "outputs": [
        {
          "output_type": "execute_result",
          "data": {
            "text/plain": [
              "7"
            ]
          },
          "metadata": {
            "tags": []
          },
          "execution_count": 7
        }
      ]
    },
    {
      "cell_type": "code",
      "metadata": {
        "id": "qob6JXFRkvC5",
        "colab_type": "code",
        "colab": {
          "base_uri": "https://localhost:8080/",
          "height": 34
        },
        "outputId": "13f12407-ea9a-4c22-99e2-cb80b7abb363"
      },
      "source": [
        "dataset.num_edge_features  #no edge embeddings"
      ],
      "execution_count": 9,
      "outputs": [
        {
          "output_type": "execute_result",
          "data": {
            "text/plain": [
              "0"
            ]
          },
          "metadata": {
            "tags": []
          },
          "execution_count": 9
        }
      ]
    },
    {
      "cell_type": "code",
      "metadata": {
        "id": "ZQ84cMW_k9x4",
        "colab_type": "code",
        "colab": {
          "base_uri": "https://localhost:8080/",
          "height": 34
        },
        "outputId": "7a85574d-55d3-4563-ecc4-46d808aae812"
      },
      "source": [
        "dataset.num_node_features  #node embedd size"
      ],
      "execution_count": 10,
      "outputs": [
        {
          "output_type": "execute_result",
          "data": {
            "text/plain": [
              "1433"
            ]
          },
          "metadata": {
            "tags": []
          },
          "execution_count": 10
        }
      ]
    },
    {
      "cell_type": "code",
      "metadata": {
        "id": "PZcBPsQulF4g",
        "colab_type": "code",
        "colab": {
          "base_uri": "https://localhost:8080/",
          "height": 34
        },
        "outputId": "69bc415d-80b4-4a5d-90bd-0a429c99d03a"
      },
      "source": [
        "dataset.num_features"
      ],
      "execution_count": 11,
      "outputs": [
        {
          "output_type": "execute_result",
          "data": {
            "text/plain": [
              "1433"
            ]
          },
          "metadata": {
            "tags": []
          },
          "execution_count": 11
        }
      ]
    },
    {
      "cell_type": "code",
      "metadata": {
        "id": "GxgDK29VlOZg",
        "colab_type": "code",
        "colab": {}
      },
      "source": [
        "data=dataset[0]"
      ],
      "execution_count": 0,
      "outputs": []
    },
    {
      "cell_type": "code",
      "metadata": {
        "id": "lIG_PlsHlUL3",
        "colab_type": "code",
        "colab": {
          "base_uri": "https://localhost:8080/",
          "height": 323
        },
        "outputId": "5287b7cc-7867-426d-f166-433ad62b660d"
      },
      "source": [
        "dataset[1]  #consist of only one graph so error throwing"
      ],
      "execution_count": 13,
      "outputs": [
        {
          "output_type": "error",
          "ename": "IndexError",
          "evalue": "ignored",
          "traceback": [
            "\u001b[0;31m---------------------------------------------------------------------------\u001b[0m",
            "\u001b[0;31mIndexError\u001b[0m                                Traceback (most recent call last)",
            "\u001b[0;32m<ipython-input-13-1ec12ad25fa7>\u001b[0m in \u001b[0;36m<module>\u001b[0;34m()\u001b[0m\n\u001b[0;32m----> 1\u001b[0;31m \u001b[0mdataset\u001b[0m\u001b[0;34m[\u001b[0m\u001b[0;36m1\u001b[0m\u001b[0;34m]\u001b[0m\u001b[0;34m\u001b[0m\u001b[0;34m\u001b[0m\u001b[0m\n\u001b[0m",
            "\u001b[0;32m/usr/local/lib/python3.6/dist-packages/torch_geometric/data/in_memory_dataset.py\u001b[0m in \u001b[0;36m__getitem__\u001b[0;34m(self, idx)\u001b[0m\n\u001b[1;32m     69\u001b[0m         or a BoolTensor.\"\"\"\n\u001b[1;32m     70\u001b[0m         \u001b[0;32mif\u001b[0m \u001b[0misinstance\u001b[0m\u001b[0;34m(\u001b[0m\u001b[0midx\u001b[0m\u001b[0;34m,\u001b[0m \u001b[0mint\u001b[0m\u001b[0;34m)\u001b[0m\u001b[0;34m:\u001b[0m\u001b[0;34m\u001b[0m\u001b[0;34m\u001b[0m\u001b[0m\n\u001b[0;32m---> 71\u001b[0;31m             \u001b[0mdata\u001b[0m \u001b[0;34m=\u001b[0m \u001b[0mself\u001b[0m\u001b[0;34m.\u001b[0m\u001b[0mget\u001b[0m\u001b[0;34m(\u001b[0m\u001b[0midx\u001b[0m\u001b[0;34m)\u001b[0m\u001b[0;34m\u001b[0m\u001b[0;34m\u001b[0m\u001b[0m\n\u001b[0m\u001b[1;32m     72\u001b[0m             \u001b[0mdata\u001b[0m \u001b[0;34m=\u001b[0m \u001b[0mdata\u001b[0m \u001b[0;32mif\u001b[0m \u001b[0mself\u001b[0m\u001b[0;34m.\u001b[0m\u001b[0mtransform\u001b[0m \u001b[0;32mis\u001b[0m \u001b[0;32mNone\u001b[0m \u001b[0;32melse\u001b[0m \u001b[0mself\u001b[0m\u001b[0;34m.\u001b[0m\u001b[0mtransform\u001b[0m\u001b[0;34m(\u001b[0m\u001b[0mdata\u001b[0m\u001b[0;34m)\u001b[0m\u001b[0;34m\u001b[0m\u001b[0;34m\u001b[0m\u001b[0m\n\u001b[1;32m     73\u001b[0m             \u001b[0;32mreturn\u001b[0m \u001b[0mdata\u001b[0m\u001b[0;34m\u001b[0m\u001b[0;34m\u001b[0m\u001b[0m\n",
            "\u001b[0;32m/usr/local/lib/python3.6/dist-packages/torch_geometric/data/in_memory_dataset.py\u001b[0m in \u001b[0;36mget\u001b[0;34m(self, idx)\u001b[0m\n\u001b[1;32m    107\u001b[0m             s[self.data.__cat_dim__(key,\n\u001b[1;32m    108\u001b[0m                                     item)] = slice(slices[idx],\n\u001b[0;32m--> 109\u001b[0;31m                                                    slices[idx + 1])\n\u001b[0m\u001b[1;32m    110\u001b[0m             \u001b[0mdata\u001b[0m\u001b[0;34m[\u001b[0m\u001b[0mkey\u001b[0m\u001b[0;34m]\u001b[0m \u001b[0;34m=\u001b[0m \u001b[0mitem\u001b[0m\u001b[0;34m[\u001b[0m\u001b[0ms\u001b[0m\u001b[0;34m]\u001b[0m\u001b[0;34m\u001b[0m\u001b[0;34m\u001b[0m\u001b[0m\n\u001b[1;32m    111\u001b[0m         \u001b[0;32mreturn\u001b[0m \u001b[0mdata\u001b[0m\u001b[0;34m\u001b[0m\u001b[0;34m\u001b[0m\u001b[0m\n",
            "\u001b[0;31mIndexError\u001b[0m: index 2 is out of bounds for dimension 0 with size 2"
          ]
        }
      ]
    },
    {
      "cell_type": "code",
      "metadata": {
        "id": "dUtj1yRSlVfv",
        "colab_type": "code",
        "colab": {
          "base_uri": "https://localhost:8080/",
          "height": 54
        },
        "outputId": "7371e7bd-4851-47f1-a283-383d5cfe5f55"
      },
      "source": [
        "data"
      ],
      "execution_count": 14,
      "outputs": [
        {
          "output_type": "execute_result",
          "data": {
            "text/plain": [
              "Data(edge_index=[2, 10556], test_mask=[2708], train_mask=[2708], val_mask=[2708], x=[2708, 1433], y=[2708])"
            ]
          },
          "metadata": {
            "tags": []
          },
          "execution_count": 14
        }
      ]
    },
    {
      "cell_type": "code",
      "metadata": {
        "id": "iDYTvyCaldA3",
        "colab_type": "code",
        "colab": {
          "base_uri": "https://localhost:8080/",
          "height": 34
        },
        "outputId": "dc78d2f4-14ab-4839-aab8-ce58494c37e7"
      },
      "source": [
        "data.num_edges"
      ],
      "execution_count": 15,
      "outputs": [
        {
          "output_type": "execute_result",
          "data": {
            "text/plain": [
              "10556"
            ]
          },
          "metadata": {
            "tags": []
          },
          "execution_count": 15
        }
      ]
    },
    {
      "cell_type": "code",
      "metadata": {
        "id": "324M4U_CliN9",
        "colab_type": "code",
        "colab": {}
      },
      "source": [
        "data.num_faces"
      ],
      "execution_count": 0,
      "outputs": []
    },
    {
      "cell_type": "code",
      "metadata": {
        "id": "Idf-vPIAlj0f",
        "colab_type": "code",
        "colab": {}
      },
      "source": [
        "data.pos  #no geometric data"
      ],
      "execution_count": 0,
      "outputs": []
    },
    {
      "cell_type": "code",
      "metadata": {
        "id": "RAW2wxss14nD",
        "colab_type": "code",
        "colab": {
          "base_uri": "https://localhost:8080/",
          "height": 34
        },
        "outputId": "ca42b497-3113-4c17-81ee-2b8f83663b86"
      },
      "source": [
        "set(data.y.numpy())"
      ],
      "execution_count": 22,
      "outputs": [
        {
          "output_type": "execute_result",
          "data": {
            "text/plain": [
              "{0, 1, 2, 3, 4, 5, 6}"
            ]
          },
          "metadata": {
            "tags": []
          },
          "execution_count": 22
        }
      ]
    },
    {
      "cell_type": "code",
      "metadata": {
        "id": "pJg_CaoW15L4",
        "colab_type": "code",
        "colab": {
          "base_uri": "https://localhost:8080/",
          "height": 34
        },
        "outputId": "ffe25414-3831-4065-e8fe-1eb2774f64ad"
      },
      "source": [
        "dataset.num_classes"
      ],
      "execution_count": 23,
      "outputs": [
        {
          "output_type": "execute_result",
          "data": {
            "text/plain": [
              "7"
            ]
          },
          "metadata": {
            "tags": []
          },
          "execution_count": 23
        }
      ]
    },
    {
      "cell_type": "code",
      "metadata": {
        "id": "AIdeX_Gwllgn",
        "colab_type": "code",
        "colab": {}
      },
      "source": [
        "import torch\n",
        "import torch.nn.functional as F\n",
        "from torch_geometric.nn import GCNConv"
      ],
      "execution_count": 0,
      "outputs": []
    },
    {
      "cell_type": "code",
      "metadata": {
        "id": "g2dePY8RpMW3",
        "colab_type": "code",
        "colab": {}
      },
      "source": [
        "class net(torch.nn.Module):\n",
        "  def __init__(self):\n",
        "    super().__init__()\n",
        "    self.conv1=GCNConv(dataset.num_node_features,16)\n",
        "    self.conv2=GCNConv(16,dataset.num_classes)    # each node is classified into 7 labels\n",
        "\n",
        "  def forward(self,data):\n",
        "    x,edge_index=data.x,data.edge_index\n",
        "\n",
        "    x=self.conv1(x,edge_index)\n",
        "    x=F.relu(x)\n",
        "    x=F.dropout(x,training=self.training)\n",
        "    x=self.conv2(x,edge_index)\n",
        "\n",
        "    return F.log_softmax(x,dim=1)\n",
        "\n",
        "  "
      ],
      "execution_count": 0,
      "outputs": []
    },
    {
      "cell_type": "code",
      "metadata": {
        "id": "DVzrxH6m3Etg",
        "colab_type": "code",
        "colab": {}
      },
      "source": [
        "device=torch.device(\"cuda\" if torch.cuda.is_available() else 'cpu')"
      ],
      "execution_count": 0,
      "outputs": []
    },
    {
      "cell_type": "code",
      "metadata": {
        "id": "DhnTseZU3VKn",
        "colab_type": "code",
        "colab": {}
      },
      "source": [
        "model=net().to(device)\n",
        "data=dataset[0].to(device)"
      ],
      "execution_count": 0,
      "outputs": []
    },
    {
      "cell_type": "code",
      "metadata": {
        "id": "v61WVVlE3o8O",
        "colab_type": "code",
        "colab": {
          "base_uri": "https://localhost:8080/",
          "height": 54
        },
        "outputId": "ce19788d-4144-4536-8489-a869f0edf176"
      },
      "source": [
        "data"
      ],
      "execution_count": 28,
      "outputs": [
        {
          "output_type": "execute_result",
          "data": {
            "text/plain": [
              "Data(edge_index=[2, 10556], test_mask=[2708], train_mask=[2708], val_mask=[2708], x=[2708, 1433], y=[2708])"
            ]
          },
          "metadata": {
            "tags": []
          },
          "execution_count": 28
        }
      ]
    },
    {
      "cell_type": "code",
      "metadata": {
        "id": "XnbXz__K3uQO",
        "colab_type": "code",
        "colab": {}
      },
      "source": [
        "optimizer=torch.optim.Adam(model.parameters(),lr=0.001,weight_decay=5e-4)"
      ],
      "execution_count": 0,
      "outputs": []
    },
    {
      "cell_type": "code",
      "metadata": {
        "id": "aoYitPgR37hn",
        "colab_type": "code",
        "colab": {
          "base_uri": "https://localhost:8080/",
          "height": 84
        },
        "outputId": "35721a2b-d2d6-4f06-b850-0ad7d9ae51ea"
      },
      "source": [
        "model.train()"
      ],
      "execution_count": 38,
      "outputs": [
        {
          "output_type": "execute_result",
          "data": {
            "text/plain": [
              "net(\n",
              "  (conv1): GCNConv(1433, 16)\n",
              "  (conv2): GCNConv(16, 7)\n",
              ")"
            ]
          },
          "metadata": {
            "tags": []
          },
          "execution_count": 38
        }
      ]
    },
    {
      "cell_type": "code",
      "metadata": {
        "id": "n12njMjE3-9u",
        "colab_type": "code",
        "colab": {
          "base_uri": "https://localhost:8080/",
          "height": 34
        },
        "outputId": "4ba9a7fb-2a82-420a-a331-31e590c35183"
      },
      "source": [
        "model.training # tells the self.training as true means tells the model to apply dropout\n",
        "# during training and not during training as during that time we can set \n",
        "# model.training = False by applying model.eval()"
      ],
      "execution_count": 39,
      "outputs": [
        {
          "output_type": "execute_result",
          "data": {
            "text/plain": [
              "True"
            ]
          },
          "metadata": {
            "tags": []
          },
          "execution_count": 39
        }
      ]
    },
    {
      "cell_type": "code",
      "metadata": {
        "id": "_eXy6S7-4GP-",
        "colab_type": "code",
        "colab": {
          "base_uri": "https://localhost:8080/",
          "height": 1000
        },
        "outputId": "00b426e8-f3f2-45cf-aee8-e9aa57b001fd"
      },
      "source": [
        "for epoch in range(200):\n",
        "  optimizer.zero_grad()\n",
        "  out=model(data)\n",
        "  loss=F.nll_loss(out[data.train_mask],data.y[data.train_mask])\n",
        "  loss.backward()\n",
        "  optimizer.step()\n",
        "  print(loss.item())"
      ],
      "execution_count": 40,
      "outputs": [
        {
          "output_type": "stream",
          "text": [
            "0.01186368614435196\n",
            "0.018277721479535103\n",
            "0.01171889714896679\n",
            "0.025390880182385445\n",
            "0.01841690018773079\n",
            "0.022625837475061417\n",
            "0.018519053235650063\n",
            "0.018394475802779198\n",
            "0.014083122834563255\n",
            "0.016490967944264412\n",
            "0.02443462796509266\n",
            "0.01389167457818985\n",
            "0.027400793507695198\n",
            "0.00950644537806511\n",
            "0.014653367921710014\n",
            "0.01586567610502243\n",
            "0.0105260219424963\n",
            "0.01734302006661892\n",
            "0.0132233751937747\n",
            "0.013525734655559063\n",
            "0.017917074263095856\n",
            "0.019738921895623207\n",
            "0.017032794654369354\n",
            "0.014556118287146091\n",
            "0.015198959968984127\n",
            "0.017335861921310425\n",
            "0.02151113748550415\n",
            "0.019972337409853935\n",
            "0.014154907315969467\n",
            "0.025247521698474884\n",
            "0.014149696566164494\n",
            "0.015842903405427933\n",
            "0.013251051306724548\n",
            "0.018808012828230858\n",
            "0.01909003034234047\n",
            "0.023454466834664345\n",
            "0.0160923320800066\n",
            "0.027509363368153572\n",
            "0.011923606507480145\n",
            "0.012464829720556736\n",
            "0.014024816453456879\n",
            "0.022789938375353813\n",
            "0.022511055693030357\n",
            "0.014628883451223373\n",
            "0.02104392647743225\n",
            "0.016869544982910156\n",
            "0.021476343274116516\n",
            "0.01701674610376358\n",
            "0.021428653970360756\n",
            "0.021082637831568718\n",
            "0.02504369430243969\n",
            "0.009906643070280552\n",
            "0.012087151408195496\n",
            "0.016430919989943504\n",
            "0.015158719383180141\n",
            "0.00889222789555788\n",
            "0.017427103593945503\n",
            "0.01271054707467556\n",
            "0.014486546628177166\n",
            "0.03157239034771919\n",
            "0.015237230807542801\n",
            "0.015294683165848255\n",
            "0.020980162546038628\n",
            "0.00805761106312275\n",
            "0.02076248824596405\n",
            "0.01768454909324646\n",
            "0.022400902584195137\n",
            "0.020399698987603188\n",
            "0.018199918791651726\n",
            "0.017856061458587646\n",
            "0.01875685714185238\n",
            "0.02129128761589527\n",
            "0.013130570761859417\n",
            "0.02064991369843483\n",
            "0.02912784367799759\n",
            "0.01057356595993042\n",
            "0.01808757707476616\n",
            "0.012846087105572224\n",
            "0.019539393484592438\n",
            "0.008334466256201267\n",
            "0.018247919157147408\n",
            "0.017250875011086464\n",
            "0.02571333758533001\n",
            "0.011904028244316578\n",
            "0.015508528798818588\n",
            "0.013026644475758076\n",
            "0.0196454506367445\n",
            "0.02983153611421585\n",
            "0.013962941244244576\n",
            "0.011668922379612923\n",
            "0.018829520791769028\n",
            "0.019241543486714363\n",
            "0.015210126526653767\n",
            "0.0219936091452837\n",
            "0.012417292222380638\n",
            "0.0147617869079113\n",
            "0.015077726915478706\n",
            "0.017179612070322037\n",
            "0.012473663315176964\n",
            "0.01375258807092905\n",
            "0.03325413167476654\n",
            "0.012359592132270336\n",
            "0.018432434648275375\n",
            "0.015738267451524734\n",
            "0.034773409366607666\n",
            "0.01281364168971777\n",
            "0.014660286717116833\n",
            "0.03288887068629265\n",
            "0.024150662124156952\n",
            "0.011912668123841286\n",
            "0.017196010798215866\n",
            "0.018504204228520393\n",
            "0.016805432736873627\n",
            "0.021856987848877907\n",
            "0.02771080657839775\n",
            "0.013051832094788551\n",
            "0.020606808364391327\n",
            "0.016381675377488136\n",
            "0.012894012033939362\n",
            "0.025333596393465996\n",
            "0.013537035323679447\n",
            "0.013530587777495384\n",
            "0.015581909567117691\n",
            "0.0241397637873888\n",
            "0.01920803263783455\n",
            "0.02065756916999817\n",
            "0.015011349692940712\n",
            "0.01096133142709732\n",
            "0.0126810222864151\n",
            "0.03703973814845085\n",
            "0.015501918271183968\n",
            "0.019298899918794632\n",
            "0.012516611255705357\n",
            "0.02208341658115387\n",
            "0.016629034653306007\n",
            "0.014671364799141884\n",
            "0.023990606889128685\n",
            "0.014622209593653679\n",
            "0.014127307571470737\n",
            "0.017709100618958473\n",
            "0.013536527752876282\n",
            "0.013842685148119926\n",
            "0.01522497832775116\n",
            "0.015076880343258381\n",
            "0.021699192002415657\n",
            "0.02981414459645748\n",
            "0.018896469846367836\n",
            "0.022525280714035034\n",
            "0.0158525463193655\n",
            "0.021163567900657654\n",
            "0.017269134521484375\n",
            "0.016659826040267944\n",
            "0.013405956327915192\n",
            "0.020497560501098633\n",
            "0.019635748118162155\n",
            "0.011873528361320496\n",
            "0.013316798023879528\n",
            "0.012396318838000298\n",
            "0.015335374511778355\n",
            "0.015556598082184792\n",
            "0.016914306208491325\n",
            "0.023131556808948517\n",
            "0.022133896127343178\n",
            "0.029715850949287415\n",
            "0.02305273897945881\n",
            "0.01692361757159233\n",
            "0.025611672550439835\n",
            "0.013327925466001034\n",
            "0.013732106424868107\n",
            "0.015822943300008774\n",
            "0.017459867522120476\n",
            "0.014709007926285267\n",
            "0.01918395794928074\n",
            "0.02169584296643734\n",
            "0.015719007700681686\n",
            "0.021606825292110443\n",
            "0.01043248176574707\n",
            "0.031151866540312767\n",
            "0.02278207615017891\n",
            "0.02620954066514969\n",
            "0.026568304747343063\n",
            "0.01611991599202156\n",
            "0.012310560792684555\n",
            "0.01538451574742794\n",
            "0.00878274068236351\n",
            "0.00921142939478159\n",
            "0.02040870487689972\n",
            "0.015723850578069687\n",
            "0.010264364071190357\n",
            "0.02075313776731491\n",
            "0.013228843919932842\n",
            "0.014031185768544674\n",
            "0.02609155885875225\n",
            "0.02260427735745907\n",
            "0.020893679931759834\n",
            "0.022171104326844215\n",
            "0.007099819369614124\n",
            "0.014532087370753288\n",
            "0.020743470638990402\n",
            "0.020167404785752296\n"
          ],
          "name": "stdout"
        }
      ]
    },
    {
      "cell_type": "code",
      "metadata": {
        "id": "OmID0lMU5Ism",
        "colab_type": "code",
        "colab": {
          "base_uri": "https://localhost:8080/",
          "height": 84
        },
        "outputId": "f558dedc-e9fb-4b31-cf35-2dc47d15ea0b"
      },
      "source": [
        "model.eval()"
      ],
      "execution_count": 42,
      "outputs": [
        {
          "output_type": "execute_result",
          "data": {
            "text/plain": [
              "net(\n",
              "  (conv1): GCNConv(1433, 16)\n",
              "  (conv2): GCNConv(16, 7)\n",
              ")"
            ]
          },
          "metadata": {
            "tags": []
          },
          "execution_count": 42
        }
      ]
    },
    {
      "cell_type": "code",
      "metadata": {
        "id": "q7uqXKlt5iP9",
        "colab_type": "code",
        "colab": {
          "base_uri": "https://localhost:8080/",
          "height": 34
        },
        "outputId": "93d3a8cb-a68f-43e8-9ad8-8fe9db9994f2"
      },
      "source": [
        "model.training# model.eval() tells the model model is evaluating to remove dropout\n",
        "# we can set using training=self.training"
      ],
      "execution_count": 43,
      "outputs": [
        {
          "output_type": "execute_result",
          "data": {
            "text/plain": [
              "False"
            ]
          },
          "metadata": {
            "tags": []
          },
          "execution_count": 43
        }
      ]
    },
    {
      "cell_type": "code",
      "metadata": {
        "id": "lT3-71cy5pf2",
        "colab_type": "code",
        "colab": {
          "base_uri": "https://localhost:8080/",
          "height": 34
        },
        "outputId": "942c5bc7-2bd1-4075-95d1-a9cf39fc8b01"
      },
      "source": [
        "model(data).shape"
      ],
      "execution_count": 47,
      "outputs": [
        {
          "output_type": "execute_result",
          "data": {
            "text/plain": [
              "torch.Size([2708, 7])"
            ]
          },
          "metadata": {
            "tags": []
          },
          "execution_count": 47
        }
      ]
    },
    {
      "cell_type": "code",
      "metadata": {
        "id": "g1dLTbw_57TW",
        "colab_type": "code",
        "colab": {}
      },
      "source": [
        "# 2708 is total number of nodes "
      ],
      "execution_count": 0,
      "outputs": []
    },
    {
      "cell_type": "code",
      "metadata": {
        "id": "EuUWb7k26t3t",
        "colab_type": "code",
        "colab": {}
      },
      "source": [
        "predval=torch.argmax(model(data),dim=1)"
      ],
      "execution_count": 0,
      "outputs": []
    },
    {
      "cell_type": "code",
      "metadata": {
        "id": "TO-VFzuS6-z1",
        "colab_type": "code",
        "colab": {
          "base_uri": "https://localhost:8080/",
          "height": 34
        },
        "outputId": "7c4251cf-83f5-41b7-c2d5-baf7c99af64d"
      },
      "source": [
        "predval"
      ],
      "execution_count": 50,
      "outputs": [
        {
          "output_type": "execute_result",
          "data": {
            "text/plain": [
              "tensor([3, 4, 4,  ..., 0, 3, 3], device='cuda:0')"
            ]
          },
          "metadata": {
            "tags": []
          },
          "execution_count": 50
        }
      ]
    },
    {
      "cell_type": "code",
      "metadata": {
        "id": "3yrtY8H36_1-",
        "colab_type": "code",
        "colab": {}
      },
      "source": [
        "predmin=torch.argmin(model(data),dim=1)"
      ],
      "execution_count": 0,
      "outputs": []
    },
    {
      "cell_type": "code",
      "metadata": {
        "id": "Frb8UFlR7H82",
        "colab_type": "code",
        "colab": {}
      },
      "source": [
        "y1=torch.tensor([1,1,0,0,1])\n",
        "y2=torch.tensor([0,1,0,1,1])"
      ],
      "execution_count": 0,
      "outputs": []
    },
    {
      "cell_type": "code",
      "metadata": {
        "id": "3AAJZM_47-Ym",
        "colab_type": "code",
        "colab": {
          "base_uri": "https://localhost:8080/",
          "height": 34
        },
        "outputId": "9e4fa64a-086d-4bca-d571-1253dfd4edbb"
      },
      "source": [
        "torch.equal(y1,y2,)"
      ],
      "execution_count": 53,
      "outputs": [
        {
          "output_type": "execute_result",
          "data": {
            "text/plain": [
              "False"
            ]
          },
          "metadata": {
            "tags": []
          },
          "execution_count": 53
        }
      ]
    },
    {
      "cell_type": "code",
      "metadata": {
        "id": "yrC2WURDSnDt",
        "colab_type": "code",
        "colab": {
          "base_uri": "https://localhost:8080/",
          "height": 34
        },
        "outputId": "8f80ae48-385a-477b-9f1a-fa86ea5c4bb3"
      },
      "source": [
        "data.y"
      ],
      "execution_count": 54,
      "outputs": [
        {
          "output_type": "execute_result",
          "data": {
            "text/plain": [
              "tensor([3, 4, 4,  ..., 3, 3, 3], device='cuda:0')"
            ]
          },
          "metadata": {
            "tags": []
          },
          "execution_count": 54
        }
      ]
    },
    {
      "cell_type": "code",
      "metadata": {
        "id": "B6Qsn5BE8Po1",
        "colab_type": "code",
        "colab": {}
      },
      "source": [
        "correctval=predval[data.test_mask].eq(data.y[data.test_mask]).sum().item()"
      ],
      "execution_count": 0,
      "outputs": []
    },
    {
      "cell_type": "code",
      "metadata": {
        "id": "6KV0-_zgSr_T",
        "colab_type": "code",
        "colab": {}
      },
      "source": [
        "acc=correctval/(data.test_mask.sum().item())"
      ],
      "execution_count": 0,
      "outputs": []
    },
    {
      "cell_type": "code",
      "metadata": {
        "id": "lVmBza69S-eb",
        "colab_type": "code",
        "colab": {
          "base_uri": "https://localhost:8080/",
          "height": 34
        },
        "outputId": "51394527-9fc7-4bbf-91a6-ce0123fd8e3e"
      },
      "source": [
        "acc*100"
      ],
      "execution_count": 59,
      "outputs": [
        {
          "output_type": "execute_result",
          "data": {
            "text/plain": [
              "80.2"
            ]
          },
          "metadata": {
            "tags": []
          },
          "execution_count": 59
        }
      ]
    },
    {
      "cell_type": "code",
      "metadata": {
        "id": "39pct5j1S_yU",
        "colab_type": "code",
        "colab": {}
      },
      "source": [
        "traincount=predval[data.train_mask].eq(data.y[data.train_mask]).sum().item()"
      ],
      "execution_count": 0,
      "outputs": []
    },
    {
      "cell_type": "code",
      "metadata": {
        "id": "qtANslB5TPaz",
        "colab_type": "code",
        "colab": {}
      },
      "source": [
        "trainacc=traincount/(data.train_mask.sum().item())"
      ],
      "execution_count": 0,
      "outputs": []
    },
    {
      "cell_type": "code",
      "metadata": {
        "id": "XOshiKntTY7T",
        "colab_type": "code",
        "colab": {
          "base_uri": "https://localhost:8080/",
          "height": 34
        },
        "outputId": "c2807af8-768a-4337-ef9d-9c03b2b177c7"
      },
      "source": [
        "trainacc*100"
      ],
      "execution_count": 63,
      "outputs": [
        {
          "output_type": "execute_result",
          "data": {
            "text/plain": [
              "100.0"
            ]
          },
          "metadata": {
            "tags": []
          },
          "execution_count": 63
        }
      ]
    },
    {
      "cell_type": "code",
      "metadata": {
        "id": "C-nk3b29TacL",
        "colab_type": "code",
        "colab": {}
      },
      "source": [
        ""
      ],
      "execution_count": 0,
      "outputs": []
    }
  ]
}