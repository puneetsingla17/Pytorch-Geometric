{
  "nbformat": 4,
  "nbformat_minor": 0,
  "metadata": {
    "colab": {
      "name": "GCN_inner_Analysis.ipynb",
      "provenance": [],
      "collapsed_sections": []
    },
    "kernelspec": {
      "name": "python3",
      "display_name": "Python 3"
    },
    "accelerator": "GPU"
  },
  "cells": [
    {
      "cell_type": "code",
      "metadata": {
        "id": "h0o16tEU5geH",
        "outputId": "f4d2fb83-5a7e-4f95-d1f6-83934088d2df",
        "colab": {
          "base_uri": "https://localhost:8080/",
          "height": 1000
        }
      },
      "source": [
        "!pip install torch-scatter==latest+cu101 -f https://pytorch-geometric.com/whl/torch-1.6.0.html\n",
        "!pip install torch-sparse==latest+cu101 -f https://pytorch-geometric.com/whl/torch-1.6.0.html\n",
        "!pip install torch-cluster==latest+cu101 -f https://pytorch-geometric.com/whl/torch-1.6.0.html\n",
        "!pip install torch-spline-conv==latest+cu101 -f https://pytorch-geometric.com/whl/torch-1.6.0.html\n",
        "!pip install torch-geometric"
      ],
      "execution_count": 18,
      "outputs": [
        {
          "output_type": "stream",
          "text": [
            "Looking in links: https://pytorch-geometric.com/whl/torch-1.6.0.html\n",
            "Collecting torch-scatter==latest+cu101\n",
            "  Using cached https://pytorch-geometric.com/whl/torch-1.6.0/torch_scatter-latest%2Bcu101-cp36-cp36m-linux_x86_64.whl\n",
            "Installing collected packages: torch-scatter\n",
            "  Found existing installation: torch-scatter 2.0.5\n",
            "    Uninstalling torch-scatter-2.0.5:\n",
            "      Successfully uninstalled torch-scatter-2.0.5\n",
            "Successfully installed torch-scatter-2.0.5\n"
          ],
          "name": "stdout"
        },
        {
          "output_type": "display_data",
          "data": {
            "application/vnd.colab-display-data+json": {
              "pip_warning": {
                "packages": [
                  "torch_scatter"
                ]
              }
            }
          },
          "metadata": {
            "tags": []
          }
        },
        {
          "output_type": "stream",
          "text": [
            "Looking in links: https://pytorch-geometric.com/whl/torch-1.6.0.html\n",
            "Collecting torch-sparse==latest+cu101\n",
            "  Using cached https://pytorch-geometric.com/whl/torch-1.6.0/torch_sparse-latest%2Bcu101-cp36-cp36m-linux_x86_64.whl\n",
            "Requirement already satisfied: scipy in /usr/local/lib/python3.6/dist-packages (from torch-sparse==latest+cu101) (1.4.1)\n",
            "Requirement already satisfied: numpy>=1.13.3 in /usr/local/lib/python3.6/dist-packages (from scipy->torch-sparse==latest+cu101) (1.18.5)\n",
            "Installing collected packages: torch-sparse\n",
            "  Found existing installation: torch-sparse 0.6.7\n",
            "    Uninstalling torch-sparse-0.6.7:\n",
            "      Successfully uninstalled torch-sparse-0.6.7\n",
            "Successfully installed torch-sparse-0.6.7\n"
          ],
          "name": "stdout"
        },
        {
          "output_type": "display_data",
          "data": {
            "application/vnd.colab-display-data+json": {
              "pip_warning": {
                "packages": [
                  "torch_sparse"
                ]
              }
            }
          },
          "metadata": {
            "tags": []
          }
        },
        {
          "output_type": "stream",
          "text": [
            "Looking in links: https://pytorch-geometric.com/whl/torch-1.6.0.html\n",
            "Collecting torch-cluster==latest+cu101\n",
            "  Using cached https://pytorch-geometric.com/whl/torch-1.6.0/torch_cluster-latest%2Bcu101-cp36-cp36m-linux_x86_64.whl\n",
            "Installing collected packages: torch-cluster\n",
            "  Found existing installation: torch-cluster 1.5.7\n",
            "    Uninstalling torch-cluster-1.5.7:\n",
            "      Successfully uninstalled torch-cluster-1.5.7\n",
            "Successfully installed torch-cluster-1.5.7\n"
          ],
          "name": "stdout"
        },
        {
          "output_type": "display_data",
          "data": {
            "application/vnd.colab-display-data+json": {
              "pip_warning": {
                "packages": [
                  "torch_cluster"
                ]
              }
            }
          },
          "metadata": {
            "tags": []
          }
        },
        {
          "output_type": "stream",
          "text": [
            "Looking in links: https://pytorch-geometric.com/whl/torch-1.6.0.html\n",
            "Collecting torch-spline-conv==latest+cu101\n",
            "  Using cached https://pytorch-geometric.com/whl/torch-1.6.0/torch_spline_conv-latest%2Bcu101-cp36-cp36m-linux_x86_64.whl\n",
            "Installing collected packages: torch-spline-conv\n",
            "  Found existing installation: torch-spline-conv 1.2.0\n",
            "    Uninstalling torch-spline-conv-1.2.0:\n",
            "      Successfully uninstalled torch-spline-conv-1.2.0\n",
            "Successfully installed torch-spline-conv-1.2.0\n"
          ],
          "name": "stdout"
        },
        {
          "output_type": "display_data",
          "data": {
            "application/vnd.colab-display-data+json": {
              "pip_warning": {
                "packages": [
                  "torch_spline_conv"
                ]
              }
            }
          },
          "metadata": {
            "tags": []
          }
        },
        {
          "output_type": "stream",
          "text": [
            "Requirement already satisfied: torch-geometric in /usr/local/lib/python3.6/dist-packages (1.6.1)\n",
            "Requirement already satisfied: tqdm in /usr/local/lib/python3.6/dist-packages (from torch-geometric) (4.41.1)\n",
            "Requirement already satisfied: numpy in /usr/local/lib/python3.6/dist-packages (from torch-geometric) (1.18.5)\n",
            "Requirement already satisfied: rdflib in /usr/local/lib/python3.6/dist-packages (from torch-geometric) (5.0.0)\n",
            "Requirement already satisfied: h5py in /usr/local/lib/python3.6/dist-packages (from torch-geometric) (2.10.0)\n",
            "Requirement already satisfied: pandas in /usr/local/lib/python3.6/dist-packages (from torch-geometric) (1.1.2)\n",
            "Requirement already satisfied: googledrivedownloader in /usr/local/lib/python3.6/dist-packages (from torch-geometric) (0.4)\n",
            "Requirement already satisfied: networkx in /usr/local/lib/python3.6/dist-packages (from torch-geometric) (2.5)\n",
            "Requirement already satisfied: ase in /usr/local/lib/python3.6/dist-packages (from torch-geometric) (3.20.1)\n",
            "Requirement already satisfied: numba in /usr/local/lib/python3.6/dist-packages (from torch-geometric) (0.48.0)\n",
            "Requirement already satisfied: torch in /usr/local/lib/python3.6/dist-packages (from torch-geometric) (1.6.0+cu101)\n",
            "Requirement already satisfied: scipy in /usr/local/lib/python3.6/dist-packages (from torch-geometric) (1.4.1)\n",
            "Requirement already satisfied: scikit-learn in /usr/local/lib/python3.6/dist-packages (from torch-geometric) (0.22.2.post1)\n",
            "Requirement already satisfied: requests in /usr/local/lib/python3.6/dist-packages (from torch-geometric) (2.23.0)\n",
            "Requirement already satisfied: jinja2 in /usr/local/lib/python3.6/dist-packages (from torch-geometric) (2.11.2)\n",
            "Requirement already satisfied: six in /usr/local/lib/python3.6/dist-packages (from rdflib->torch-geometric) (1.15.0)\n",
            "Requirement already satisfied: pyparsing in /usr/local/lib/python3.6/dist-packages (from rdflib->torch-geometric) (2.4.7)\n",
            "Requirement already satisfied: isodate in /usr/local/lib/python3.6/dist-packages (from rdflib->torch-geometric) (0.6.0)\n",
            "Requirement already satisfied: pytz>=2017.2 in /usr/local/lib/python3.6/dist-packages (from pandas->torch-geometric) (2018.9)\n",
            "Requirement already satisfied: python-dateutil>=2.7.3 in /usr/local/lib/python3.6/dist-packages (from pandas->torch-geometric) (2.8.1)\n",
            "Requirement already satisfied: decorator>=4.3.0 in /usr/local/lib/python3.6/dist-packages (from networkx->torch-geometric) (4.4.2)\n",
            "Requirement already satisfied: matplotlib>=2.0.0 in /usr/local/lib/python3.6/dist-packages (from ase->torch-geometric) (3.2.2)\n",
            "Requirement already satisfied: llvmlite<0.32.0,>=0.31.0dev0 in /usr/local/lib/python3.6/dist-packages (from numba->torch-geometric) (0.31.0)\n",
            "Requirement already satisfied: setuptools in /usr/local/lib/python3.6/dist-packages (from numba->torch-geometric) (50.3.0)\n",
            "Requirement already satisfied: future in /usr/local/lib/python3.6/dist-packages (from torch->torch-geometric) (0.16.0)\n",
            "Requirement already satisfied: joblib>=0.11 in /usr/local/lib/python3.6/dist-packages (from scikit-learn->torch-geometric) (0.16.0)\n",
            "Requirement already satisfied: idna<3,>=2.5 in /usr/local/lib/python3.6/dist-packages (from requests->torch-geometric) (2.10)\n",
            "Requirement already satisfied: urllib3!=1.25.0,!=1.25.1,<1.26,>=1.21.1 in /usr/local/lib/python3.6/dist-packages (from requests->torch-geometric) (1.24.3)\n",
            "Requirement already satisfied: certifi>=2017.4.17 in /usr/local/lib/python3.6/dist-packages (from requests->torch-geometric) (2020.6.20)\n",
            "Requirement already satisfied: chardet<4,>=3.0.2 in /usr/local/lib/python3.6/dist-packages (from requests->torch-geometric) (3.0.4)\n",
            "Requirement already satisfied: MarkupSafe>=0.23 in /usr/local/lib/python3.6/dist-packages (from jinja2->torch-geometric) (1.1.1)\n",
            "Requirement already satisfied: cycler>=0.10 in /usr/local/lib/python3.6/dist-packages (from matplotlib>=2.0.0->ase->torch-geometric) (0.10.0)\n",
            "Requirement already satisfied: kiwisolver>=1.0.1 in /usr/local/lib/python3.6/dist-packages (from matplotlib>=2.0.0->ase->torch-geometric) (1.2.0)\n"
          ],
          "name": "stdout"
        }
      ]
    },
    {
      "cell_type": "code",
      "metadata": {
        "id": "Od3hwfCjHIyp"
      },
      "source": [
        "import torch\n",
        "import torch.nn as n\n",
        "import numpy as np\n",
        "import matplotlib.pyplot as plt\n",
        "import torch.nn.functional as f\n",
        "import random\n",
        "import torch.optim as op"
      ],
      "execution_count": 19,
      "outputs": []
    },
    {
      "cell_type": "code",
      "metadata": {
        "id": "J6YgbD_LJkgm"
      },
      "source": [
        "import torch_geometric.nn as tg\n",
        "import torch_geometric.data as Data"
      ],
      "execution_count": 20,
      "outputs": []
    },
    {
      "cell_type": "code",
      "metadata": {
        "id": "WKmuKXaVfiCj"
      },
      "source": [
        "from torch_geometric.utils import degree,add_self_loops"
      ],
      "execution_count": 21,
      "outputs": []
    },
    {
      "cell_type": "code",
      "metadata": {
        "id": "IX3CZOmonvGO"
      },
      "source": [
        "class GCN(tg.MessagePassing):\n",
        "  def __init__(self,inchannels,outchannels):\n",
        "    super().__init__(aggr=\"mean\")\n",
        "    self.fc=n.Linear(inchannels,outchannels)\n",
        "\n",
        "  def forward(self,x,edgeindex):\n",
        "    # x has shape N x nchannels\n",
        "    # edgeindex shape 2 x E \n",
        "    # adding self loops to adjacency matrix\n",
        "    edgeindex,_=add_self_loops(edgeindex,num_nodes=x.shape[0])\n",
        "    x=self.fc(x)  #Feed forward neural network\n",
        "    row,col=edgeindex\n",
        "    degreecalc=degree(col,num_nodes=x.shape[0],dtype=x.dtype)\n",
        "    print(\"######\")\n",
        "    print(col)\n",
        "    print(row)\n",
        "    print(\"************\")\n",
        "    print(degreecalc)\n",
        "    print(degreecalc.shape)\n",
        "    deginverse=degreecalc.pow(-0.5)\n",
        "    print(\"####\")\n",
        "    print(deginverse)\n",
        "    norm=deginverse[row]*deginverse[col]\n",
        "    print(norm.shape)      # we added self loops\n",
        "    print(\"$$$$\")\n",
        "    print(deginverse[row])\n",
        "    return self.propagate(edgeindex,x=x,norm=norm)\n",
        "\n",
        "  def message(self, x_j, norm):\n",
        "    # x_j has shape [E, out_channels]\n",
        "\n",
        "    # Step 4: Normalize node features.\n",
        "    return norm.view(-1, 1) * x_j\n",
        "\n"
      ],
      "execution_count": 105,
      "outputs": []
    },
    {
      "cell_type": "code",
      "metadata": {
        "id": "f1YX5fYUa7PW"
      },
      "source": [
        "from torch_geometric.datasets import KarateClub"
      ],
      "execution_count": 94,
      "outputs": []
    },
    {
      "cell_type": "code",
      "metadata": {
        "id": "YOWSETLGlrPL",
        "outputId": "418b75f1-0ab3-49cf-f61e-e502ae456068",
        "colab": {
          "base_uri": "https://localhost:8080/",
          "height": 101
        }
      },
      "source": [
        "dataset = KarateClub()\n",
        "print(f'Dataset: {dataset}:')\n",
        "print('======================')\n",
        "print(f'Number of graphs: {len(dataset)}')\n",
        "print(f'Number of features: {dataset.num_features}')\n",
        "print(f'Number of classes: {dataset.num_classes}')"
      ],
      "execution_count": 67,
      "outputs": [
        {
          "output_type": "stream",
          "text": [
            "Dataset: KarateClub():\n",
            "======================\n",
            "Number of graphs: 1\n",
            "Number of features: 34\n",
            "Number of classes: 2\n"
          ],
          "name": "stdout"
        }
      ]
    },
    {
      "cell_type": "code",
      "metadata": {
        "id": "-aRIl4ZnmKZm"
      },
      "source": [
        "data=dataset[0]"
      ],
      "execution_count": 52,
      "outputs": []
    },
    {
      "cell_type": "code",
      "metadata": {
        "id": "n9DeLsJVmNNe",
        "outputId": "6e82c97c-f6e8-45eb-ba51-7036c2200688",
        "colab": {
          "base_uri": "https://localhost:8080/",
          "height": 84
        }
      },
      "source": [
        "print(\"total no of nodes are \",data.num_nodes)\n",
        "print(\"feature dimension \",data.num_features)\n",
        "print(\"edge dimension \",data.num_edge_features)\n",
        "print(\"number of edges \",data.num_edges)"
      ],
      "execution_count": 53,
      "outputs": [
        {
          "output_type": "stream",
          "text": [
            "total no of nodes are  34\n",
            "feature dimension  34\n",
            "edge dimension  0\n",
            "number of edges  156\n"
          ],
          "name": "stdout"
        }
      ]
    },
    {
      "cell_type": "code",
      "metadata": {
        "id": "P4l-TndZuz3S"
      },
      "source": [
        "xdata=data.x"
      ],
      "execution_count": 54,
      "outputs": []
    },
    {
      "cell_type": "code",
      "metadata": {
        "id": "TIu9ZOEBvfK4"
      },
      "source": [
        "ydata=data.y"
      ],
      "execution_count": 55,
      "outputs": []
    },
    {
      "cell_type": "code",
      "metadata": {
        "id": "98Jfuu1hvgWn",
        "outputId": "28e22ff5-3514-4c05-ced3-68ecde8d17a2",
        "colab": {
          "base_uri": "https://localhost:8080/",
          "height": 34
        }
      },
      "source": [
        "xdata.shape"
      ],
      "execution_count": 56,
      "outputs": [
        {
          "output_type": "execute_result",
          "data": {
            "text/plain": [
              "torch.Size([34, 34])"
            ]
          },
          "metadata": {
            "tags": []
          },
          "execution_count": 56
        }
      ]
    },
    {
      "cell_type": "code",
      "metadata": {
        "id": "5Nw7hZ__vheJ",
        "outputId": "474d5d10-f1ca-418d-9df9-0c4c0b1dd8d1",
        "colab": {
          "base_uri": "https://localhost:8080/",
          "height": 50
        }
      },
      "source": [
        "ydata"
      ],
      "execution_count": 57,
      "outputs": [
        {
          "output_type": "execute_result",
          "data": {
            "text/plain": [
              "tensor([0, 0, 0, 0, 0, 0, 0, 0, 0, 1, 0, 0, 0, 0, 1, 1, 0, 0, 1, 0, 1, 0, 1, 1,\n",
              "        1, 1, 1, 1, 1, 1, 1, 1, 1, 1])"
            ]
          },
          "metadata": {
            "tags": []
          },
          "execution_count": 57
        }
      ]
    },
    {
      "cell_type": "code",
      "metadata": {
        "id": "a-L6Ijgyvk0Y"
      },
      "source": [
        "reldata=data.edge_index"
      ],
      "execution_count": 58,
      "outputs": []
    },
    {
      "cell_type": "code",
      "metadata": {
        "id": "Xck7j9-yvu1f",
        "outputId": "660b48fb-bbdf-4e01-fb42-9a0c01d1f41a",
        "colab": {
          "base_uri": "https://localhost:8080/",
          "height": 34
        }
      },
      "source": [
        "reldata.shape"
      ],
      "execution_count": 59,
      "outputs": [
        {
          "output_type": "execute_result",
          "data": {
            "text/plain": [
              "torch.Size([2, 156])"
            ]
          },
          "metadata": {
            "tags": []
          },
          "execution_count": 59
        }
      ]
    },
    {
      "cell_type": "code",
      "metadata": {
        "id": "DECFbxG4vv7H"
      },
      "source": [
        "relfeatures=data.edge_attr"
      ],
      "execution_count": 60,
      "outputs": []
    },
    {
      "cell_type": "code",
      "metadata": {
        "id": "kclWpJ4Iv3Bf"
      },
      "source": [
        "indim=34"
      ],
      "execution_count": 61,
      "outputs": []
    },
    {
      "cell_type": "code",
      "metadata": {
        "id": "mG-ahn7wv4qP"
      },
      "source": [
        "model=GCN(34,16)"
      ],
      "execution_count": 106,
      "outputs": []
    },
    {
      "cell_type": "code",
      "metadata": {
        "id": "Ftc9id8-wEF_",
        "outputId": "3efa3630-3082-4d8a-a98d-0ae64f5dd194",
        "colab": {
          "base_uri": "https://localhost:8080/",
          "height": 67
        }
      },
      "source": [
        "model"
      ],
      "execution_count": 107,
      "outputs": [
        {
          "output_type": "execute_result",
          "data": {
            "text/plain": [
              "GCN(\n",
              "  (fc): Linear(in_features=34, out_features=16, bias=True)\n",
              ")"
            ]
          },
          "metadata": {
            "tags": []
          },
          "execution_count": 107
        }
      ]
    },
    {
      "cell_type": "code",
      "metadata": {
        "id": "3nuYBAfswFT3",
        "outputId": "a9fcd753-5b10-4582-cf24-b06140ebe22f",
        "colab": {
          "base_uri": "https://localhost:8080/",
          "height": 974
        }
      },
      "source": [
        "#col has nodes which are increasing so as the number decrease implies we are starting new\n",
        "\n",
        "p=model.forward(xdata,reldata)"
      ],
      "execution_count": 108,
      "outputs": [
        {
          "output_type": "stream",
          "text": [
            "######\n",
            "tensor([ 1,  2,  3,  4,  5,  6,  7,  8, 10, 11, 12, 13, 17, 19, 21, 31,  0,  2,\n",
            "         3,  7, 13, 17, 19, 21, 30,  0,  1,  3,  7,  8,  9, 13, 27, 28, 32,  0,\n",
            "         1,  2,  7, 12, 13,  0,  6, 10,  0,  6, 10, 16,  0,  4,  5, 16,  0,  1,\n",
            "         2,  3,  0,  2, 30, 32, 33,  2, 33,  0,  4,  5,  0,  0,  3,  0,  1,  2,\n",
            "         3, 33, 32, 33, 32, 33,  5,  6,  0,  1, 32, 33,  0,  1, 33, 32, 33,  0,\n",
            "         1, 32, 33, 25, 27, 29, 32, 33, 25, 27, 31, 23, 24, 31, 29, 33,  2, 23,\n",
            "        24, 33,  2, 31, 33, 23, 26, 32, 33,  1,  8, 32, 33,  0, 24, 25, 28, 32,\n",
            "        33,  2,  8, 14, 15, 18, 20, 22, 23, 29, 30, 31, 33,  8,  9, 13, 14, 15,\n",
            "        18, 19, 20, 22, 23, 26, 27, 28, 29, 30, 31, 32,  0,  1,  2,  3,  4,  5,\n",
            "         6,  7,  8,  9, 10, 11, 12, 13, 14, 15, 16, 17, 18, 19, 20, 21, 22, 23,\n",
            "        24, 25, 26, 27, 28, 29, 30, 31, 32, 33])\n",
            "tensor([ 0,  0,  0,  0,  0,  0,  0,  0,  0,  0,  0,  0,  0,  0,  0,  0,  1,  1,\n",
            "         1,  1,  1,  1,  1,  1,  1,  2,  2,  2,  2,  2,  2,  2,  2,  2,  2,  3,\n",
            "         3,  3,  3,  3,  3,  4,  4,  4,  5,  5,  5,  5,  6,  6,  6,  6,  7,  7,\n",
            "         7,  7,  8,  8,  8,  8,  8,  9,  9, 10, 10, 10, 11, 12, 12, 13, 13, 13,\n",
            "        13, 13, 14, 14, 15, 15, 16, 16, 17, 17, 18, 18, 19, 19, 19, 20, 20, 21,\n",
            "        21, 22, 22, 23, 23, 23, 23, 23, 24, 24, 24, 25, 25, 25, 26, 26, 27, 27,\n",
            "        27, 27, 28, 28, 28, 29, 29, 29, 29, 30, 30, 30, 30, 31, 31, 31, 31, 31,\n",
            "        31, 32, 32, 32, 32, 32, 32, 32, 32, 32, 32, 32, 32, 33, 33, 33, 33, 33,\n",
            "        33, 33, 33, 33, 33, 33, 33, 33, 33, 33, 33, 33,  0,  1,  2,  3,  4,  5,\n",
            "         6,  7,  8,  9, 10, 11, 12, 13, 14, 15, 16, 17, 18, 19, 20, 21, 22, 23,\n",
            "        24, 25, 26, 27, 28, 29, 30, 31, 32, 33])\n",
            "************\n",
            "tensor([17., 10., 11.,  7.,  4.,  5.,  5.,  5.,  6.,  3.,  4.,  2.,  3.,  6.,\n",
            "         3.,  3.,  3.,  3.,  3.,  4.,  3.,  3.,  3.,  6.,  4.,  4.,  3.,  5.,\n",
            "         4.,  5.,  5.,  7., 13., 18.])\n",
            "torch.Size([34])\n",
            "####\n",
            "tensor([0.2425, 0.3162, 0.3015, 0.3780, 0.5000, 0.4472, 0.4472, 0.4472, 0.4082,\n",
            "        0.5774, 0.5000, 0.7071, 0.5774, 0.4082, 0.5774, 0.5774, 0.5774, 0.5774,\n",
            "        0.5774, 0.5000, 0.5774, 0.5774, 0.5774, 0.4082, 0.5000, 0.5000, 0.5774,\n",
            "        0.4472, 0.5000, 0.4472, 0.4472, 0.3780, 0.2774, 0.2357])\n",
            "torch.Size([190])\n",
            "$$$$\n",
            "tensor([0.2425, 0.2425, 0.2425, 0.2425, 0.2425, 0.2425, 0.2425, 0.2425, 0.2425,\n",
            "        0.2425, 0.2425, 0.2425, 0.2425, 0.2425, 0.2425, 0.2425, 0.3162, 0.3162,\n",
            "        0.3162, 0.3162, 0.3162, 0.3162, 0.3162, 0.3162, 0.3162, 0.3015, 0.3015,\n",
            "        0.3015, 0.3015, 0.3015, 0.3015, 0.3015, 0.3015, 0.3015, 0.3015, 0.3780,\n",
            "        0.3780, 0.3780, 0.3780, 0.3780, 0.3780, 0.5000, 0.5000, 0.5000, 0.4472,\n",
            "        0.4472, 0.4472, 0.4472, 0.4472, 0.4472, 0.4472, 0.4472, 0.4472, 0.4472,\n",
            "        0.4472, 0.4472, 0.4082, 0.4082, 0.4082, 0.4082, 0.4082, 0.5774, 0.5774,\n",
            "        0.5000, 0.5000, 0.5000, 0.7071, 0.5774, 0.5774, 0.4082, 0.4082, 0.4082,\n",
            "        0.4082, 0.4082, 0.5774, 0.5774, 0.5774, 0.5774, 0.5774, 0.5774, 0.5774,\n",
            "        0.5774, 0.5774, 0.5774, 0.5000, 0.5000, 0.5000, 0.5774, 0.5774, 0.5774,\n",
            "        0.5774, 0.5774, 0.5774, 0.4082, 0.4082, 0.4082, 0.4082, 0.4082, 0.5000,\n",
            "        0.5000, 0.5000, 0.5000, 0.5000, 0.5000, 0.5774, 0.5774, 0.4472, 0.4472,\n",
            "        0.4472, 0.4472, 0.5000, 0.5000, 0.5000, 0.4472, 0.4472, 0.4472, 0.4472,\n",
            "        0.4472, 0.4472, 0.4472, 0.4472, 0.3780, 0.3780, 0.3780, 0.3780, 0.3780,\n",
            "        0.3780, 0.2774, 0.2774, 0.2774, 0.2774, 0.2774, 0.2774, 0.2774, 0.2774,\n",
            "        0.2774, 0.2774, 0.2774, 0.2774, 0.2357, 0.2357, 0.2357, 0.2357, 0.2357,\n",
            "        0.2357, 0.2357, 0.2357, 0.2357, 0.2357, 0.2357, 0.2357, 0.2357, 0.2357,\n",
            "        0.2357, 0.2357, 0.2357, 0.2425, 0.3162, 0.3015, 0.3780, 0.5000, 0.4472,\n",
            "        0.4472, 0.4472, 0.4082, 0.5774, 0.5000, 0.7071, 0.5774, 0.4082, 0.5774,\n",
            "        0.5774, 0.5774, 0.5774, 0.5774, 0.5000, 0.5774, 0.5774, 0.5774, 0.4082,\n",
            "        0.5000, 0.5000, 0.5774, 0.4472, 0.5000, 0.4472, 0.4472, 0.3780, 0.2774,\n",
            "        0.2357])\n"
          ],
          "name": "stdout"
        }
      ]
    },
    {
      "cell_type": "code",
      "metadata": {
        "id": "6lEy_SpJwI6w"
      },
      "source": [
        ""
      ],
      "execution_count": 100,
      "outputs": []
    },
    {
      "cell_type": "code",
      "metadata": {
        "id": "1z4RmoeXxh53"
      },
      "source": [
        ""
      ],
      "execution_count": 76,
      "outputs": []
    },
    {
      "cell_type": "code",
      "metadata": {
        "id": "mJD9LCxexqOp"
      },
      "source": [
        ""
      ],
      "execution_count": null,
      "outputs": []
    }
  ]
}