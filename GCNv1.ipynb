{
  "nbformat": 4,
  "nbformat_minor": 0,
  "metadata": {
    "colab": {
      "name": "GCNv1.ipynb",
      "provenance": [],
      "collapsed_sections": []
    },
    "kernelspec": {
      "name": "python3",
      "display_name": "Python 3"
    }
  },
  "cells": [
    {
      "cell_type": "code",
      "metadata": {
        "id": "IEHB5yaA7QUI",
        "colab_type": "code",
        "colab": {}
      },
      "source": [
        "import numpy as np\n",
        "A=np.matrix([[0,0,0,1],[1,0,1,0],[0,1,0,1],[0,1,0,0]])"
      ],
      "execution_count": 0,
      "outputs": []
    },
    {
      "cell_type": "code",
      "metadata": {
        "id": "Y7VqSLG97JVw",
        "colab_type": "code",
        "colab": {}
      },
      "source": [
        "A=A.T"
      ],
      "execution_count": 0,
      "outputs": []
    },
    {
      "cell_type": "code",
      "metadata": {
        "id": "U7x3fifa7saP",
        "colab_type": "code",
        "outputId": "88b61f7e-84ee-485a-a78e-9a91844d9bd9",
        "colab": {
          "base_uri": "https://localhost:8080/",
          "height": 84
        }
      },
      "source": [
        "A"
      ],
      "execution_count": 17,
      "outputs": [
        {
          "output_type": "execute_result",
          "data": {
            "text/plain": [
              "matrix([[0, 1, 0, 0],\n",
              "        [0, 0, 1, 1],\n",
              "        [0, 1, 0, 0],\n",
              "        [1, 0, 1, 0]])"
            ]
          },
          "metadata": {
            "tags": []
          },
          "execution_count": 17
        }
      ]
    },
    {
      "cell_type": "code",
      "metadata": {
        "id": "o_Mw1Y5c7J3m",
        "colab_type": "code",
        "outputId": "6e4c06ee-7a1c-4ea6-dc0a-2d5b6afddafb",
        "colab": {
          "base_uri": "https://localhost:8080/",
          "height": 34
        }
      },
      "source": [
        "A.shape"
      ],
      "execution_count": 18,
      "outputs": [
        {
          "output_type": "execute_result",
          "data": {
            "text/plain": [
              "(4, 4)"
            ]
          },
          "metadata": {
            "tags": []
          },
          "execution_count": 18
        }
      ]
    },
    {
      "cell_type": "code",
      "metadata": {
        "id": "Wt76IlWb8yd8",
        "colab_type": "code",
        "colab": {}
      },
      "source": [
        "X=np.matrix([[i,-i] for i in range(A.shape[0])],dtype=float)"
      ],
      "execution_count": 0,
      "outputs": []
    },
    {
      "cell_type": "code",
      "metadata": {
        "id": "zryVrQ2t8-jP",
        "colab_type": "code",
        "outputId": "111b5b46-d7e7-4d47-d716-33ad79ba3e02",
        "colab": {
          "base_uri": "https://localhost:8080/",
          "height": 84
        }
      },
      "source": [
        "X    # number of nodex x node_feature_dim"
      ],
      "execution_count": 20,
      "outputs": [
        {
          "output_type": "execute_result",
          "data": {
            "text/plain": [
              "matrix([[ 0.,  0.],\n",
              "        [ 1., -1.],\n",
              "        [ 2., -2.],\n",
              "        [ 3., -3.]])"
            ]
          },
          "metadata": {
            "tags": []
          },
          "execution_count": 20
        }
      ]
    },
    {
      "cell_type": "code",
      "metadata": {
        "id": "7zli-d6B8_X_",
        "colab_type": "code",
        "colab": {}
      },
      "source": [
        "B=A*X"
      ],
      "execution_count": 0,
      "outputs": []
    },
    {
      "cell_type": "code",
      "metadata": {
        "id": "0JgMvtxQ9ZOW",
        "colab_type": "code",
        "outputId": "d78a07ff-98e4-4037-91ed-785b6651d4e2",
        "colab": {
          "base_uri": "https://localhost:8080/",
          "height": 84
        }
      },
      "source": [
        "B"
      ],
      "execution_count": 22,
      "outputs": [
        {
          "output_type": "execute_result",
          "data": {
            "text/plain": [
              "matrix([[ 1., -1.],\n",
              "        [ 5., -5.],\n",
              "        [ 1., -1.],\n",
              "        [ 2., -2.]])"
            ]
          },
          "metadata": {
            "tags": []
          },
          "execution_count": 22
        }
      ]
    },
    {
      "cell_type": "code",
      "metadata": {
        "id": "3m8ouUet9dcG",
        "colab_type": "code",
        "colab": {}
      },
      "source": [
        "I=np.matrix(np.eye(A.shape[0]))"
      ],
      "execution_count": 0,
      "outputs": []
    },
    {
      "cell_type": "code",
      "metadata": {
        "id": "hjcw3HREN9uH",
        "colab_type": "code",
        "colab": {
          "base_uri": "https://localhost:8080/",
          "height": 84
        },
        "outputId": "9e0e5bfd-0803-4da6-9f15-d29294530a97"
      },
      "source": [
        "I   # Identity matrix to add self loops so that node embeddings can be added to itself"
      ],
      "execution_count": 24,
      "outputs": [
        {
          "output_type": "execute_result",
          "data": {
            "text/plain": [
              "matrix([[1., 0., 0., 0.],\n",
              "        [0., 1., 0., 0.],\n",
              "        [0., 0., 1., 0.],\n",
              "        [0., 0., 0., 1.]])"
            ]
          },
          "metadata": {
            "tags": []
          },
          "execution_count": 24
        }
      ]
    },
    {
      "cell_type": "code",
      "metadata": {
        "id": "nNYeun3FN-pW",
        "colab_type": "code",
        "colab": {}
      },
      "source": [
        "A_hat=A+I"
      ],
      "execution_count": 0,
      "outputs": []
    },
    {
      "cell_type": "code",
      "metadata": {
        "id": "TcZiXUadOCde",
        "colab_type": "code",
        "colab": {
          "base_uri": "https://localhost:8080/",
          "height": 84
        },
        "outputId": "ce42231e-455d-4d12-dbef-af3809f6c592"
      },
      "source": [
        "A_hat*X"
      ],
      "execution_count": 26,
      "outputs": [
        {
          "output_type": "execute_result",
          "data": {
            "text/plain": [
              "matrix([[ 1., -1.],\n",
              "        [ 6., -6.],\n",
              "        [ 3., -3.],\n",
              "        [ 5., -5.]])"
            ]
          },
          "metadata": {
            "tags": []
          },
          "execution_count": 26
        }
      ]
    },
    {
      "cell_type": "code",
      "metadata": {
        "id": "Gllg5_zGOG3m",
        "colab_type": "code",
        "colab": {}
      },
      "source": [
        "D=np.array(np.sum(A,axis=0))"
      ],
      "execution_count": 0,
      "outputs": []
    },
    {
      "cell_type": "code",
      "metadata": {
        "id": "19w_a7NMbjAp",
        "colab_type": "code",
        "colab": {
          "base_uri": "https://localhost:8080/",
          "height": 34
        },
        "outputId": "278d5e52-b7e6-45d6-b73f-5d26ce61fe9a"
      },
      "source": [
        "D[0]"
      ],
      "execution_count": 37,
      "outputs": [
        {
          "output_type": "execute_result",
          "data": {
            "text/plain": [
              "array([1, 2, 2, 1])"
            ]
          },
          "metadata": {
            "tags": []
          },
          "execution_count": 37
        }
      ]
    },
    {
      "cell_type": "code",
      "metadata": {
        "id": "wby-EyysbjlA",
        "colab_type": "code",
        "colab": {}
      },
      "source": [
        "D=np.matrix(np.diag(D[0]))"
      ],
      "execution_count": 0,
      "outputs": []
    },
    {
      "cell_type": "code",
      "metadata": {
        "id": "1J9NAkcybqju",
        "colab_type": "code",
        "colab": {
          "base_uri": "https://localhost:8080/",
          "height": 84
        },
        "outputId": "3324f86a-8d95-4551-a31d-dec37e7f0f50"
      },
      "source": [
        "D"
      ],
      "execution_count": 39,
      "outputs": [
        {
          "output_type": "execute_result",
          "data": {
            "text/plain": [
              "matrix([[1, 0, 0, 0],\n",
              "        [0, 2, 0, 0],\n",
              "        [0, 0, 2, 0],\n",
              "        [0, 0, 0, 1]])"
            ]
          },
          "metadata": {
            "tags": []
          },
          "execution_count": 39
        }
      ]
    },
    {
      "cell_type": "code",
      "metadata": {
        "id": "maRGAxGWbu3-",
        "colab_type": "code",
        "colab": {
          "base_uri": "https://localhost:8080/",
          "height": 84
        },
        "outputId": "2dcc2088-797c-4ad3-f1ca-3b13670253fc"
      },
      "source": [
        "A"
      ],
      "execution_count": 40,
      "outputs": [
        {
          "output_type": "execute_result",
          "data": {
            "text/plain": [
              "matrix([[0, 1, 0, 0],\n",
              "        [0, 0, 1, 1],\n",
              "        [0, 1, 0, 0],\n",
              "        [1, 0, 1, 0]])"
            ]
          },
          "metadata": {
            "tags": []
          },
          "execution_count": 40
        }
      ]
    },
    {
      "cell_type": "code",
      "metadata": {
        "id": "wJcqGBlmcf5W",
        "colab_type": "code",
        "colab": {
          "base_uri": "https://localhost:8080/",
          "height": 84
        },
        "outputId": "264dbedf-c258-48c3-d6d6-907c456e1efa"
      },
      "source": [
        "D**2"
      ],
      "execution_count": 41,
      "outputs": [
        {
          "output_type": "execute_result",
          "data": {
            "text/plain": [
              "matrix([[1, 0, 0, 0],\n",
              "        [0, 4, 0, 0],\n",
              "        [0, 0, 4, 0],\n",
              "        [0, 0, 0, 1]])"
            ]
          },
          "metadata": {
            "tags": []
          },
          "execution_count": 41
        }
      ]
    },
    {
      "cell_type": "code",
      "metadata": {
        "id": "gPdUd4AXcjzO",
        "colab_type": "code",
        "colab": {
          "base_uri": "https://localhost:8080/",
          "height": 84
        },
        "outputId": "01da068d-c04b-4260-bf72-b090a2b95d74"
      },
      "source": [
        "D**-1"
      ],
      "execution_count": 43,
      "outputs": [
        {
          "output_type": "execute_result",
          "data": {
            "text/plain": [
              "matrix([[1. , 0. , 0. , 0. ],\n",
              "        [0. , 0.5, 0. , 0. ],\n",
              "        [0. , 0. , 0.5, 0. ],\n",
              "        [0. , 0. , 0. , 1. ]])"
            ]
          },
          "metadata": {
            "tags": []
          },
          "execution_count": 43
        }
      ]
    },
    {
      "cell_type": "code",
      "metadata": {
        "id": "YYmK1DdRckWX",
        "colab_type": "code",
        "colab": {
          "base_uri": "https://localhost:8080/",
          "height": 84
        },
        "outputId": "88a8c5d6-00c4-4cf4-d187-3a5de346be4f"
      },
      "source": [
        "A"
      ],
      "execution_count": 44,
      "outputs": [
        {
          "output_type": "execute_result",
          "data": {
            "text/plain": [
              "matrix([[0, 1, 0, 0],\n",
              "        [0, 0, 1, 1],\n",
              "        [0, 1, 0, 0],\n",
              "        [1, 0, 1, 0]])"
            ]
          },
          "metadata": {
            "tags": []
          },
          "execution_count": 44
        }
      ]
    },
    {
      "cell_type": "code",
      "metadata": {
        "id": "WLSX5DEZcrxG",
        "colab_type": "code",
        "colab": {
          "base_uri": "https://localhost:8080/",
          "height": 84
        },
        "outputId": "aa2e131b-2605-4b04-f1d2-8a84a7a788e2"
      },
      "source": [
        "D**-1*A"
      ],
      "execution_count": 45,
      "outputs": [
        {
          "output_type": "execute_result",
          "data": {
            "text/plain": [
              "matrix([[0. , 1. , 0. , 0. ],\n",
              "        [0. , 0. , 0.5, 0.5],\n",
              "        [0. , 0.5, 0. , 0. ],\n",
              "        [1. , 0. , 1. , 0. ]])"
            ]
          },
          "metadata": {
            "tags": []
          },
          "execution_count": 45
        }
      ]
    },
    {
      "cell_type": "code",
      "metadata": {
        "id": "aLSxI6iMdz0J",
        "colab_type": "code",
        "colab": {}
      },
      "source": [
        "#for normalization we do D**-1 and do matrix multiplication\n",
        "# D**-1*A has weights across nodes =1 across row so when we add features\n",
        "# from neighbouring nodes "
      ],
      "execution_count": 0,
      "outputs": []
    },
    {
      "cell_type": "code",
      "metadata": {
        "id": "Zxp5Z7HXhY5k",
        "colab_type": "code",
        "colab": {
          "base_uri": "https://localhost:8080/",
          "height": 84
        },
        "outputId": "b9ea8a9d-b184-46c1-b64b-2bde40c3ddca"
      },
      "source": [
        "D**-1*A*X"
      ],
      "execution_count": 47,
      "outputs": [
        {
          "output_type": "execute_result",
          "data": {
            "text/plain": [
              "matrix([[ 1. , -1. ],\n",
              "        [ 2.5, -2.5],\n",
              "        [ 0.5, -0.5],\n",
              "        [ 2. , -2. ]])"
            ]
          },
          "metadata": {
            "tags": []
          },
          "execution_count": 47
        }
      ]
    },
    {
      "cell_type": "code",
      "metadata": {
        "id": "bYRcFv6phb1H",
        "colab_type": "code",
        "colab": {}
      },
      "source": [
        ""
      ],
      "execution_count": 0,
      "outputs": []
    }
  ]
}